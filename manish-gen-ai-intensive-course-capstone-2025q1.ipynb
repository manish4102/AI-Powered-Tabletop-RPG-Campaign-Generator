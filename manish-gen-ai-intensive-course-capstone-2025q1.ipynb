{
 "cells": [
  {
   "cell_type": "markdown",
   "id": "afd36780",
   "metadata": {
    "papermill": {
     "duration": 0.002656,
     "end_time": "2025-04-20T21:49:53.716011",
     "exception": false,
     "start_time": "2025-04-20T21:49:53.713355",
     "status": "completed"
    },
    "tags": []
   },
   "source": [
    "# 🎲 AI-Powered Tabletop RPG Campaign Generator\n",
    "\n",
    "**Create complete, consistent RPG worlds with Google Gemini**\n",
    "\n",
    "This notebook demonstrates a generative AI system that builds:\n",
    "- 🌍 Immersive campaign settings\n",
    "- 🧙♂️ Detailed character sheets\n",
    "- 🏆 Multi-path quests\n",
    "- ⚖️ Balanced game mechanics\n",
    "- 🔍 Lore consistency checking\n",
    "\n",
    "**Key Features:**\n",
    "- Uses Gemini 1.5 Flash for fast generation\n",
    "- Structured output for immediate usability\n",
    "- Built for Kaggle with secrets integration\n",
    "- Customizable tone/complexity\n",
    "- Complete RPG toolkit in one notebook\n",
    "\n",
    "Perfect for Game Masters who want to:\n",
    "- Quickly start new campaigns\n",
    "- Generate NPCs on demand\n",
    "- Maintain world continuity\n",
    "- Develop custom rule systems\n",
    "\n",
    "*Requires Google API key (via Kaggle secrets)*"
   ]
  },
  {
   "cell_type": "code",
   "execution_count": 1,
   "id": "cefc7c59",
   "metadata": {
    "_cell_guid": "b1076dfc-b9ad-4769-8c92-a6c4dae69d19",
    "_uuid": "8f2839f25d086af736a60e9eeb907d3b93b6e0e5",
    "execution": {
     "iopub.execute_input": "2025-04-20T21:49:53.721129Z",
     "iopub.status.busy": "2025-04-20T21:49:53.720900Z",
     "iopub.status.idle": "2025-04-20T21:49:57.133775Z",
     "shell.execute_reply": "2025-04-20T21:49:57.132971Z"
    },
    "papermill": {
     "duration": 3.41758,
     "end_time": "2025-04-20T21:49:57.135770",
     "exception": false,
     "start_time": "2025-04-20T21:49:53.718190",
     "status": "completed"
    },
    "tags": []
   },
   "outputs": [],
   "source": [
    "# First, install required packages\n",
    "!pip install -q google-generativeai"
   ]
  },
  {
   "cell_type": "code",
   "execution_count": 2,
   "id": "d670a258",
   "metadata": {
    "execution": {
     "iopub.execute_input": "2025-04-20T21:49:57.141202Z",
     "iopub.status.busy": "2025-04-20T21:49:57.140986Z",
     "iopub.status.idle": "2025-04-20T21:49:58.706056Z",
     "shell.execute_reply": "2025-04-20T21:49:58.705457Z"
    },
    "papermill": {
     "duration": 1.569143,
     "end_time": "2025-04-20T21:49:58.707261",
     "exception": false,
     "start_time": "2025-04-20T21:49:57.138118",
     "status": "completed"
    },
    "tags": []
   },
   "outputs": [],
   "source": [
    "import os\n",
    "import textwrap\n",
    "import google.generativeai as genai\n",
    "from IPython.display import Markdown\n",
    "from kaggle_secrets import UserSecretsClient"
   ]
  },
  {
   "cell_type": "code",
   "execution_count": 3,
   "id": "853f2c6d",
   "metadata": {
    "execution": {
     "iopub.execute_input": "2025-04-20T21:49:58.713056Z",
     "iopub.status.busy": "2025-04-20T21:49:58.712327Z",
     "iopub.status.idle": "2025-04-20T21:49:58.889563Z",
     "shell.execute_reply": "2025-04-20T21:49:58.888942Z"
    },
    "papermill": {
     "duration": 0.181132,
     "end_time": "2025-04-20T21:49:58.890791",
     "exception": false,
     "start_time": "2025-04-20T21:49:58.709659",
     "status": "completed"
    },
    "tags": []
   },
   "outputs": [
    {
     "name": "stdout",
     "output_type": "stream",
     "text": [
      "Gemini configured successfully with model: gemini-1.5-flash\n"
     ]
    }
   ],
   "source": [
    "# Initialize Kaggle secrets\n",
    "user_secrets = UserSecretsClient()\n",
    "\n",
    "try:\n",
    "    # Get the API key from Kaggle secrets\n",
    "    GOOGLE_API_KEY = user_secrets.get_secret(\"GOOGLE_API_KEY\")\n",
    "    \n",
    "    # Configure Gemini\n",
    "    genai.configure(api_key=GOOGLE_API_KEY)\n",
    "    \n",
    "    # Initialize the correct model from your available list\n",
    "    model = genai.GenerativeModel('models/gemini-1.5-flash')  # Using the flash model for faster responses\n",
    "    \n",
    "    print(\"Gemini configured successfully with model: gemini-1.5-flash\")\n",
    "except Exception as e:\n",
    "    print(f\"Error during setup: {str(e)}\")\n",
    "    print(\"Please ensure you've:\")\n",
    "    print(\"1. Added your Google API key as a Kaggle secret named 'GOOGLE_API_KEY'\")\n",
    "    print(\"2. Turned on internet access in your Kaggle notebook settings\")"
   ]
  },
  {
   "cell_type": "markdown",
   "id": "98341ef6",
   "metadata": {
    "papermill": {
     "duration": 0.002272,
     "end_time": "2025-04-20T21:49:58.895534",
     "exception": false,
     "start_time": "2025-04-20T21:49:58.893262",
     "status": "completed"
    },
    "tags": []
   },
   "source": [
    "# 1. Campaign Setting Generator"
   ]
  },
  {
   "cell_type": "code",
   "execution_count": 4,
   "id": "18e393a3",
   "metadata": {
    "execution": {
     "iopub.execute_input": "2025-04-20T21:49:58.902103Z",
     "iopub.status.busy": "2025-04-20T21:49:58.901864Z",
     "iopub.status.idle": "2025-04-20T21:50:05.183265Z",
     "shell.execute_reply": "2025-04-20T21:50:05.182593Z"
    },
    "papermill": {
     "duration": 6.286416,
     "end_time": "2025-04-20T21:50:05.184303",
     "exception": false,
     "start_time": "2025-04-20T21:49:58.897887",
     "status": "completed"
    },
    "tags": []
   },
   "outputs": [
    {
     "data": {
      "text/markdown": [
       "> # WORLD OVERVIEW\n",
       "> \n",
       "> - **Name:**  Dust & Stars\n",
       "> \n",
       "> - **Core concept:** Dust & Stars is a gritty sci-fi western set on the arid, resource-scarce planet of Aethel.  Centuries after a catastrophic solar flare crippled advanced technology, humanity clings to survival in scattered settlements, relying on salvaged tech and old-fashioned grit.  Advanced weaponry is rare and fiercely contested, while the remnants of pre-flare civilization are both a source of wonder and dangerous secrets, guarded by powerful factions vying for control of the planet's dwindling resources and forgotten technologies.  The harsh environment and scarcity breed a ruthless individualism tempered only by desperate alliances.\n",
       "> \n",
       "> - **Time period/era:** Post-apocalyptic, approximately 250 years after the \"Solar Scourge.\"\n",
       "> \n",
       "> - **Core conflict driving the narrative:** The struggle for control of the \"Sunstone,\" a powerful pre-flare energy source rediscovered within a lost city, threatens to ignite a planet-wide war between the established factions and unleash devastating technologies upon the already fragile ecosystem of Aethel.\n",
       "> \n",
       "> \n",
       "> # FACTIONS\n",
       "> \n",
       "> 1. **Faction Name:** The Rust Riders\n",
       ">    - **Alignment:** Chaotic Neutral\n",
       ">    - **Goals:** To survive and thrive in the harsh landscape, often through raiding and scavenging. They are fiercely independent and distrustful of authority. They are primarily interested in acquiring resources and maintaining their freedom.\n",
       ">    - **Key NPCs:**  Jax \"Ironhand\" Riley (ruthless leader, skilled gunslinger),  \"Whisper\" (skilled scout and information broker), Old Man Hemlock (mechanic and weapons expert)\n",
       "> \n",
       "> \n",
       "> 2. **Faction Name:** The Sol Syndicate\n",
       ">    - **Alignment:** Lawful Evil\n",
       ">    - **Goals:** To restore order and control to Aethel by exploiting the planet's remaining resources and consolidating power through ruthless efficiency and manipulation. They believe order is more valuable than individual freedom.\n",
       ">    - **Key NPCs:**  Director Thorne (ambitious and calculating leader),  Agent Viper (ruthless enforcer),  Dr. Aris Thorne (Director's brother, a brilliant but morally compromised scientist)\n",
       "> \n",
       "> \n",
       "> 3. **Faction Name:** The Silent Brotherhood\n",
       ">    - **Alignment:** Neutral Good\n",
       ">    - **Goals:** To protect the remnants of pre-flare knowledge and technology from those who would misuse it, preserving Aethel's fragile ecosystem and helping those in need. They operate in secrecy, preferring diplomacy but willing to fight to defend their values.\n",
       ">    - **Key NPCs:**  Elder Anya (spiritual and intellectual leader),  Brother Silas (skilled healer and tech specialist),  Sister Lyra (agile scout and combatant)\n",
       "> \n",
       "> \n",
       "> # CHARACTER ARCHETYPES\n",
       "> \n",
       "> - **Class 1:** Gunslinger (role: ranged combat specialist, special abilities:  \"Quick Draw\" (faster draw speed), \"Deadeye\" (increased accuracy), \"Fan the Hammer\" (rapid fire))\n",
       "> \n",
       "> - **Class 2:**  Scavenger (role: resourceful survivalist, special abilities:  \"Junk Tech\" (improvised gadgets), \"Scavenger's Luck\" (increased chance of finding valuable loot), \"Survivalist\" (increased resistance to harsh environments))\n",
       "> \n",
       "> - **Class 3:**  Tech Shaman (role: skilled in repairing and utilizing salvaged technology, special abilities: \"Technopathy\" (limited control over salvaged technology), \"Overclock\" (temporary boost to tech performance), \"Repair Bot\" (summon a small repair drone))\n",
       "> \n",
       "> - **Class 4:**  Peacekeeper (role: skilled in hand-to-hand combat and diplomacy, special abilities:  \"Disarm\" (disarm opponents), \"Mediation\" (de-escalate conflict), \"Unwavering Resolve\" (increased resistance to fear and intimidation))\n",
       "> \n",
       "> \n",
       "> # KEY LOCATIONS\n",
       "> \n",
       "> 1. **Location Name:** Dustbowl City (description: a sprawling, lawless settlement built amidst the ruins of a pre-flare metropolis. Importance: a major trading hub and a crossroads for all the factions, a dangerous but vital location.)\n",
       "> \n",
       "> 2. **Location Name:** The Sunstone Citadel (description: a partially excavated pre-flare structure containing the Sunstone energy source, protected by advanced security systems and dangerous creatures. Importance: the key objective for all factions, holding the potential for unimaginable power.)\n",
       "> \n",
       "> 3. **Location Name:**  Whispering Sands Monastery (description: a secluded oasis in the desert, home to the Silent Brotherhood. Importance: a safe haven and a center of knowledge and healing, a vital base for those seeking refuge or information.)\n"
      ],
      "text/plain": [
       "<IPython.core.display.Markdown object>"
      ]
     },
     "execution_count": 4,
     "metadata": {},
     "output_type": "execute_result"
    }
   ],
   "source": [
    "def to_markdown(text):\n",
    "    text = text.replace('•', '  *')\n",
    "    return Markdown(textwrap.indent(text, '> ', predicate=lambda _: True))\n",
    "\n",
    "# %%\n",
    "def generate_campaign_setting(theme=\"fantasy\", tone=\"dark\"):\n",
    "    prompt = f\"\"\"Generate a complete RPG campaign setting with these sections:\n",
    "    \n",
    "# WORLD OVERVIEW\n",
    "- Name: \n",
    "- Core concept (1 paragraph):\n",
    "- Time period/era:\n",
    "- Core conflict driving the narrative:\n",
    "\n",
    "# FACTIONS\n",
    "1. Faction Name:\n",
    "   - Alignment: \n",
    "   - Goals:\n",
    "   - Key NPCs:\n",
    "2. Faction Name:\n",
    "   - Alignment: \n",
    "   - Goals:\n",
    "   - Key NPCs:\n",
    "3. Faction Name:\n",
    "   - Alignment: \n",
    "   - Goals:\n",
    "   - Key NPCs:\n",
    "\n",
    "# CHARACTER ARCHETYPES\n",
    "- Class 1: (name, role, special abilities)\n",
    "- Class 2: (name, role, special abilities)\n",
    "- Class 3: (name, role, special abilities)\n",
    "- Class 4: (name, role, special abilities)\n",
    "\n",
    "# KEY LOCATIONS\n",
    "1. Location Name: (description, importance)\n",
    "2. Location Name: (description, importance)\n",
    "3. Location Name: (description, importance)\n",
    "\n",
    "Theme: {theme}\n",
    "Tone: {tone}\"\"\"\n",
    "\n",
    "    try:\n",
    "        response = model.generate_content(prompt)\n",
    "        return response.text\n",
    "    except Exception as e:\n",
    "        return f\"Error generating content: {str(e)}\"\n",
    "\n",
    "# Generate a sample campaign\n",
    "campaign = generate_campaign_setting(\"sci-fi western\", \"gritty\")\n",
    "to_markdown(campaign)"
   ]
  },
  {
   "cell_type": "markdown",
   "id": "cf0fa093",
   "metadata": {
    "papermill": {
     "duration": 0.001984,
     "end_time": "2025-04-20T21:50:05.188698",
     "exception": false,
     "start_time": "2025-04-20T21:50:05.186714",
     "status": "completed"
    },
    "tags": []
   },
   "source": [
    "# 2. Detailed Character Generator"
   ]
  },
  {
   "cell_type": "code",
   "execution_count": 5,
   "id": "4939111d",
   "metadata": {
    "execution": {
     "iopub.execute_input": "2025-04-20T21:50:05.193819Z",
     "iopub.status.busy": "2025-04-20T21:50:05.193585Z",
     "iopub.status.idle": "2025-04-20T21:50:11.343686Z",
     "shell.execute_reply": "2025-04-20T21:50:11.343059Z"
    },
    "papermill": {
     "duration": 6.153892,
     "end_time": "2025-04-20T21:50:11.344696",
     "exception": false,
     "start_time": "2025-04-20T21:50:05.190804",
     "status": "completed"
    },
    "tags": []
   },
   "outputs": [
    {
     "data": {
      "text/markdown": [
       "> # BASIC INFO\n",
       "> \n",
       "> - **Name:**  Vulture \"Talon\" Reyes\n",
       "> - **Race/Species:** Human (Aethel native, weathered and hardened)\n",
       "> - **Age:** 47\n",
       "> - **Physical Description:** Lean and wiry, standing at 5'10\".  Deep tan skin etched with sun wrinkles and scars from past encounters.  One eye is a milky white, a souvenir from a shotgun blast. His remaining eye is sharp and intensely observant, often narrowed in suspicion.  He moves with a practiced grace, a silent predator in the dust.\n",
       "> \n",
       "> \n",
       "> # BACKGROUND\n",
       "> \n",
       "> - **Personal History:** Talon grew up in Dustbowl City's underbelly, orphaned young and forced to learn the harsh realities of survival. He honed his skills as a scavenger and street fighter, eventually taking up bounty hunting as a means to a more reliable – though still dangerous – income. His reputation for ruthless efficiency precedes him. A past job involving a stolen Sunstone component cost him his eye and left him with a deep distrust of powerful artifacts.\n",
       "> \n",
       "> - **Motivations:**  Money, primarily.  He's driven by a need to secure his future, to escape the desperation of his past.  The thrill of the hunt is a secondary, albeit potent, motivator.  Underneath the cynicism, a flicker of justice occasionally shines through – he prefers to hunt those who deserve it, but won't hesitate to take a job if the price is right.\n",
       "> \n",
       "> - **Secrets:** He possesses a small, almost unusable fragment of pre-flare technology – a data chip he recovered from a long-forgotten crash site. He doesn't understand its full capabilities but senses it's important, and fears its potential power as much as he does its potential value. He keeps it hidden within a specially crafted compartment in his boot.  He also harbors a quiet admiration for the Silent Brotherhood, despite his cynical worldview.\n",
       "> \n",
       "> \n",
       "> # ABILITIES\n",
       "> \n",
       "> - **Core Skills:**  Expert marksman (long-range and close-quarters), exceptional tracking skills, persuasive negotiation (when necessary), advanced scavenging and resourcefulness. Skilled in unarmed combat (learned on the streets).\n",
       "> \n",
       "> - **Special Abilities:**\n",
       ">     * **Gunslinger:**  Possesses the \"Quick Draw,\" \"Deadeye,\" and \"Fan the Hammer\" abilities.  His weapon of choice is a heavily modified, pre-flare revolver with a custom-made silencer.\n",
       ">     * **Scavenger:**  Possesses the \"Junk Tech\" ability (capable of creating simple, but effective, traps and makeshift tools). His \"Scavenger's Luck\" is honed over years of experience.\n",
       "> \n",
       "> - **Weaknesses:**  Trust issues (making alliances difficult), his damaged eye limits his peripheral vision and depth perception, susceptible to emotional manipulation (a deep-seated desire for acceptance makes him vulnerable).\n",
       "> \n",
       "> \n",
       "> # RELATIONSHIPS\n",
       "> \n",
       "> - **Allies:**  He has a loose network of informants in Dustbowl City – mostly desperate souls who owe him favors.  He tolerates, and occasionally works with, Whisper (Rust Riders).\n",
       "> \n",
       "> - **Rivals:**  Director Thorne (Sol Syndicate) sees him as a wildcard and a potential threat, Viper is actively pursuing him due to Talon's past run-ins with the Syndicate.  Jax Riley (Rust Riders) views him as a competitor and occasionally a threat.\n",
       "> \n",
       "> - **Connection to main conflict:** He's been hired by several factions to recover Sunstone components, but his own interest lies in staying neutral in the escalating conflict, so he won't choose sides unless the price is exorbitant.  He is aware that the Sunstone’s power could be disastrous in the wrong hands.\n",
       "> \n",
       "> \n",
       "> # VISUAL DESCRIPTION\n",
       "> \n",
       "> - **Clothing/Equipment:** Wears practical, worn leather clothing – a duster coat, sturdy boots, and reinforced trousers. Carries his modified revolver, a machete strapped to his leg, and a variety of scavenging tools tucked into his belt.  A worn leather satchel contains his supplies, including a well-maintained first-aid kit. He keeps a well-worn map of Aethel tucked into his hatband.\n",
       "> \n",
       "> - **Distinguishing Features:** His milky white eye and a distinctive network of scars across his left cheek. He often wears a wide-brimmed hat to shade his face and obscure his expression. A small, intricately carved bone pendant hangs around his neck – a reminder of a lost loved one.\n",
       "> \n",
       "> - **Personality Cues:**  Typically reserved and taciturn, he speaks only when necessary.  His gaze is constantly assessing his surroundings, a flicker of suspicion always present.  Though outwardly cynical, a rare glimpse of empathy can be seen in his eyes when interacting with vulnerable individuals. He has a dry wit which he occasionally uses to deflect awkward situations.\n"
      ],
      "text/plain": [
       "<IPython.core.display.Markdown object>"
      ]
     },
     "execution_count": 5,
     "metadata": {},
     "output_type": "execute_result"
    }
   ],
   "source": [
    "def generate_character(campaign_setting, role=\"protagonist\", depth=\"detailed\"):\n",
    "    prompt = f\"\"\"Based on this campaign setting:\n",
    "{campaign_setting}\n",
    "\n",
    "Create a {depth} {role} character sheet:\n",
    "\n",
    "# BASIC INFO\n",
    "- Name: \n",
    "- Race/Species:\n",
    "- Age:\n",
    "- Physical Description:\n",
    "\n",
    "# BACKGROUND\n",
    "- Personal History:\n",
    "- Motivations:\n",
    "- Secrets:\n",
    "\n",
    "# ABILITIES\n",
    "- Core Skills:\n",
    "- Special Abilities:\n",
    "- Weaknesses:\n",
    "\n",
    "# RELATIONSHIPS\n",
    "- Allies:\n",
    "- Rivals:\n",
    "- Connection to main conflict:\n",
    "\n",
    "# VISUAL DESCRIPTION\n",
    "- Clothing/Equipment:\n",
    "- Distinguishing Features:\n",
    "- Personality Cues:\"\"\"\n",
    "\n",
    "    try:\n",
    "        response = model.generate_content(prompt)\n",
    "        return response.text\n",
    "    except Exception as e:\n",
    "        return f\"Error generating character: {str(e)}\"\n",
    "\n",
    "# Generate sample character\n",
    "character = generate_character(campaign, \"bounty hunter\", \"very detailed\")\n",
    "to_markdown(character)"
   ]
  },
  {
   "cell_type": "markdown",
   "id": "9ad0e750",
   "metadata": {
    "papermill": {
     "duration": 0.002162,
     "end_time": "2025-04-20T21:50:11.349521",
     "exception": false,
     "start_time": "2025-04-20T21:50:11.347359",
     "status": "completed"
    },
    "tags": []
   },
   "source": [
    "# 3. Multi-Path Quest Generator"
   ]
  },
  {
   "cell_type": "code",
   "execution_count": 6,
   "id": "f6a3e221",
   "metadata": {
    "execution": {
     "iopub.execute_input": "2025-04-20T21:50:11.354818Z",
     "iopub.status.busy": "2025-04-20T21:50:11.354630Z",
     "iopub.status.idle": "2025-04-20T21:50:17.061705Z",
     "shell.execute_reply": "2025-04-20T21:50:17.061080Z"
    },
    "papermill": {
     "duration": 5.711004,
     "end_time": "2025-04-20T21:50:17.062774",
     "exception": false,
     "start_time": "2025-04-20T21:50:11.351770",
     "status": "completed"
    },
    "tags": []
   },
   "outputs": [
    {
     "data": {
      "text/markdown": [
       "> # QUEST TITLE\n",
       "> The Thorne Protocol\n",
       "> \n",
       "> # HOOK\n",
       "> **Why players would care:**  The players overhear a desperate plea from a captured Sol Syndicate scientist, Dr. Aris Thorne (brother of Director Thorne), smuggled out of Dustbowl City. He reveals a secret project of his brother’s – a plan to weaponize the Sunstone, turning it into a devastating orbital weapon capable of obliterating Dustbowl City and any opposition. Aris needs their help to stop the project before it's too late, offering crucial information and technology in exchange for his freedom and the destruction of the weapon.\n",
       "> \n",
       "> **How they learn about it:** A cryptic message hidden in a salvaged datapad containing recovered Sol Syndicate files found within a Rust Riders raided supply convoy.  Alternatively, a desperate contact in Dustbowl City (perhaps a disgruntled Sol Syndicate worker) approaches them with the information in person, offering a large sum of credits for help.\n",
       "> \n",
       "> \n",
       "> # OBJECTIVES\n",
       "> 1. **Primary Goal:** Infiltrate the Sol Syndicate's hidden research facility (located deep within a seemingly abandoned pre-flare mine outside Dustbowl City) and disable the Sunstone weaponization project.\n",
       "> \n",
       "> 2. **Secondary Goal:** Extract Dr. Aris Thorne safely from the facility.\n",
       "> \n",
       "> 3. **Optional Goal:** Recover any Sol Syndicate documents or technology related to the project that could be used to prevent future attempts at weaponizing the Sunstone.\n",
       "> \n",
       "> \n",
       "> # CHALLENGES\n",
       "> - **Combat Encounter:**  The research facility is heavily guarded by Sol Syndicate agents, including Agent Viper and specialized security drones equipped with advanced weaponry (perhaps salvaged pre-flare tech).  The players must navigate complex security systems and overcome challenging combat encounters using stealth, guile, and superior firepower.\n",
       "> \n",
       "> - **Puzzle/Problem:** The Sunstone weaponization project involves a complex series of interlinked technological systems. The players need to solve a technical puzzle involving the manipulation of salvaged pre-flare consoles and the deactivation of several security protocols before they can disable the weapon. This puzzle could involve decrypting codes, manipulating energy flow, or repairing damaged systems – using Tech Shaman skills will be particularly beneficial.\n",
       "> \n",
       "> - **Social Challenge:**  The players must navigate the complex social dynamics within the Sol Syndicate facility. This involves deceiving guards, possibly impersonating Syndicate agents, or finding weaknesses within the organization to exploit.  Peacekeepers' skills of diplomacy and deception will prove invaluable.\n",
       "> \n",
       "> \n",
       "> # REWARDS\n",
       "> - **Tangible Rewards:**  Access to Dr. Aris Thorne's knowledge (which could include valuable technical schematics, advanced weapon modifications, or information about other pre-flare technologies), a large sum of credits from a grateful Dr. Thorne or other factions, and salvaged equipment from the Sol Syndicate facility.\n",
       "> \n",
       "> - **Story Progression:** The players significantly impede the Sol Syndicate's ambitions, altering the power dynamics in Aethel and potentially causing a shift in the ongoing conflict over the Sunstone. The completion of this quest sets the stage for future encounters with the Sol Syndicate and could reveal new alliances and threats.\n",
       "> \n",
       "> - **Reputation Effects:** Increased reputation with the Silent Brotherhood (if they choose to share their findings) and possibly with other factions who oppose the Sol Syndicate.  Decreased reputation with the Sol Syndicate.\n",
       "> \n",
       "> \n",
       "> # BRANCHING PATHS\n",
       "> - **Decision Point 1:**  Do the players choose to trust Dr. Aris Thorne?  If they do, they can potentially leverage his knowledge for success. If they don't, they will have to rely on their own skills and wits, making the quest significantly more challenging.  This distrust may also lead to unintended consequences, perhaps Dr. Thorne betraying the players or seeking refuge elsewhere.\n",
       "> \n",
       "> - **Decision Point 2:**  After disabling the weapon, do the players choose to destroy the Sunstone weapon completely, or do they try to capture it or salvage components? Destroying it removes a significant threat but eliminates the opportunity to study its technology. Capturing or salvaging it holds the potential for immense power but could trigger a much larger confrontation with the Sol Syndicate, potentially attracting other hostile factions.  If they salvage it, a new threat might emerge from this potentially dangerous tech falling into the wrong hands.\n"
      ],
      "text/plain": [
       "<IPython.core.display.Markdown object>"
      ]
     },
     "execution_count": 6,
     "metadata": {},
     "output_type": "execute_result"
    }
   ],
   "source": [
    "def generate_quest(campaign_setting, quest_type=\"main\", complexity=3):\n",
    "    prompt = f\"\"\"Based on this campaign setting:\n",
    "{campaign_setting}\n",
    "\n",
    "Design a {quest_type} quest with complexity level {complexity}/5:\n",
    "\n",
    "# QUEST TITLE\n",
    "- \n",
    "\n",
    "# HOOK\n",
    "- Why players would care:\n",
    "- How they learn about it:\n",
    "\n",
    "# OBJECTIVES\n",
    "1. Primary Goal:\n",
    "2. Secondary Goal:\n",
    "3. Optional Goal:\n",
    "\n",
    "# CHALLENGES\n",
    "- Combat Encounter:\n",
    "- Puzzle/Problem:\n",
    "- Social Challenge:\n",
    "\n",
    "# REWARDS\n",
    "- Tangible Rewards:\n",
    "- Story Progression:\n",
    "- Reputation Effects:\n",
    "\n",
    "# BRANCHING PATHS\n",
    "- Decision Point 1: (options and consequences)\n",
    "- Decision Point 2: (options and consequences)\"\"\"\n",
    "\n",
    "    try:\n",
    "        response = model.generate_content(prompt)\n",
    "        return response.text\n",
    "    except Exception as e:\n",
    "        return f\"Error generating quest: {str(e)}\"\n",
    "\n",
    "# Generate sample quest\n",
    "quest = generate_quest(campaign, \"side\", 4)\n",
    "to_markdown(quest)"
   ]
  },
  {
   "cell_type": "markdown",
   "id": "40147cdb",
   "metadata": {
    "papermill": {
     "duration": 0.002583,
     "end_time": "2025-04-20T21:50:17.068691",
     "exception": false,
     "start_time": "2025-04-20T21:50:17.066108",
     "status": "completed"
    },
    "tags": []
   },
   "source": [
    "# 4. Advanced Game Mechanics"
   ]
  },
  {
   "cell_type": "code",
   "execution_count": 7,
   "id": "2175dbbd",
   "metadata": {
    "execution": {
     "iopub.execute_input": "2025-04-20T21:50:17.074649Z",
     "iopub.status.busy": "2025-04-20T21:50:17.074396Z",
     "iopub.status.idle": "2025-04-20T21:50:22.991295Z",
     "shell.execute_reply": "2025-04-20T21:50:22.990745Z"
    },
    "papermill": {
     "duration": 5.921141,
     "end_time": "2025-04-20T21:50:22.992437",
     "exception": false,
     "start_time": "2025-04-20T21:50:17.071296",
     "status": "completed"
    },
    "tags": []
   },
   "outputs": [
    {
     "data": {
      "text/markdown": [
       "> ## Dust & Stars: Space Travel System\n",
       "> \n",
       "> Aethel's advanced technology was crippled by the Solar Scourge, limiting space travel to salvaged, unreliable craft and dangerous journeys.  This system reflects that scarcity and peril.\n",
       "> \n",
       "> **# CORE MECHANICS**\n",
       "> \n",
       "> - **Resolution Method:**  d100 system.  A player rolls a d100 and adds relevant skill modifiers.  The result is compared to a target number set by the GM based on the difficulty of the task.\n",
       "> \n",
       "> - **Success/Failure Gradients:**\n",
       ">     - 96-100: Critical Success (exceptional result, often with added benefits)\n",
       ">     - 81-95: Full Success (task completed without complications)\n",
       ">     - 61-80: Partial Success (task completed, but with drawbacks or complications)\n",
       ">     - 41-60: Failure (task not completed, minor consequences)\n",
       ">     - 21-40: Critical Failure (task not completed, significant negative consequences)\n",
       ">     - 01-20: Catastrophic Failure (task not completed, potentially disastrous consequences)\n",
       "> \n",
       "> \n",
       "> - **Resource Management:**  Space travel relies heavily on three resources:\n",
       ">     - **Fuel:** Measured in units (e.g., \"fuel units\"). Depleted through travel and malfunctions.  Running out of fuel mid-journey is a critical failure.\n",
       ">     - **Shielding Integrity:** Measured as a percentage (0-100%).  Damaged by asteroid impacts, solar flares, and combat. Reaching 0% shielding results in significant hull damage.\n",
       ">     - **Hull Integrity:** Measured as a percentage (0-100%).  Represents the structural health of the ship.  Reaching 0% means the ship is destroyed.\n",
       "> \n",
       "> \n",
       "> **# SPECIAL RULES**\n",
       "> \n",
       "> - **Critical Success:**  A critical success during a space travel roll might result in discovering a hidden shortcut, finding valuable salvage in space debris, or avoiding a dangerous encounter.\n",
       "> \n",
       "> - **Critical Failure:** A critical failure might lead to catastrophic engine failure, a collision with a space object, or exposure to deadly radiation.\n",
       "> \n",
       "> - **Edge Cases:**\n",
       ">     - **Navigation in Dark Space:**  Requires high Navigation skill and potentially advanced salvaged navigational equipment. Failure could result in being hopelessly lost.\n",
       ">     - **Atmospheric Entry/Exit:** Requires specialized skills and equipment. Failure could result in burning up or crashing.\n",
       ">     - **Space Combat:**  Combines piloting skills with weapon systems (requires Gunslinger or Tech Shaman skills).\n",
       "> \n",
       "> \n",
       "> **# PROGRESSION**\n",
       "> \n",
       "> - **Skill Improvement:** Characters can improve their relevant skills (Piloting, Navigation, Engineering, etc.) through experience and training.\n",
       "> \n",
       "> - **Ability Unlocks:**  As characters gain experience, they might unlock access to more advanced salvaged technology, improving their ship's capabilities (better engines, stronger shields, advanced weapons).\n",
       "> \n",
       "> - **Power Scaling:**  The scarcity of resources and advanced technology prevents rapid power scaling. Progress is slow and challenging, reflecting the harsh realities of the setting.\n",
       "> \n",
       "> \n",
       "> **# BALANCE NOTES**\n",
       "> \n",
       "> - **Intended Playstyle:**  A mix of careful resource management, strategic decision-making, and thrilling, high-stakes encounters.\n",
       "> \n",
       "> - **Risk/Reward Ratios:**  Space travel is inherently risky, with significant potential rewards (e.g., valuable salvage, access to hidden locations). The risks should always be substantial, incentivizing careful planning and resource management.\n",
       "> \n",
       "> - **Counterplay Options:**  Characters can mitigate risks by investing in better equipment, improving their skills, and forming alliances.  The GM should offer opportunities for clever solutions and creative problem-solving, rewarding players for strategic thinking.\n",
       "> \n",
       "> \n",
       "> **# SHIP TYPES (Examples):**\n",
       "> \n",
       "> * **Scavenger Freighter:**  A heavily modified cargo ship, slow but durable, with limited shielding.  Good for hauling goods but vulnerable in combat.\n",
       "> * **Raider Corvette:**  A fast, agile ship optimized for combat, equipped with salvaged weaponry but lacking in cargo space.\n",
       "> * **Explorer Probe:**  A small, lightly shielded ship ideal for scouting and exploration. Very vulnerable to damage.\n",
       "> * **Salvager:**  Specialized for recovering debris and derelict vessels.\n",
       "> \n",
       "> \n",
       "> This system ensures that space travel in Dust & Stars is a dangerous and challenging endeavor, reflecting the setting’s scarcity and the ever-present threat of failure. It requires careful planning, skillful execution, and a dash of luck to survive the vast emptiness of space.\n"
      ],
      "text/plain": [
       "<IPython.core.display.Markdown object>"
      ]
     },
     "execution_count": 7,
     "metadata": {},
     "output_type": "execute_result"
    }
   ],
   "source": [
    "def generate_mechanics(campaign_setting, system_name=\"combat\", detail_level=\"comprehensive\"):\n",
    "    prompt = f\"\"\"Based on this campaign setting:\n",
    "{campaign_setting}\n",
    "\n",
    "Design a {detail_level} {system_name} system:\n",
    "\n",
    "# CORE MECHANICS\n",
    "- Resolution Method:\n",
    "- Success/Failure Gradients:\n",
    "- Resource Management:\n",
    "\n",
    "# SPECIAL RULES\n",
    "- Critical Success:\n",
    "- Critical Failure:\n",
    "- Edge Cases:\n",
    "\n",
    "# PROGRESSION\n",
    "- Skill Improvement:\n",
    "- Ability Unlocks:\n",
    "- Power Scaling:\n",
    "\n",
    "# BALANCE NOTES\n",
    "- Intended Playstyle:\n",
    "- Risk/Reward Ratios:\n",
    "- Counterplay Options:\"\"\"\n",
    "\n",
    "    try:\n",
    "        response = model.generate_content(prompt)\n",
    "        return response.text\n",
    "    except Exception as e:\n",
    "        return f\"Error generating mechanics: {str(e)}\"\n",
    "\n",
    "# Generate sample mechanics\n",
    "mechanics = generate_mechanics(campaign, \"space travel\", \"detailed\")\n",
    "to_markdown(mechanics)"
   ]
  },
  {
   "cell_type": "markdown",
   "id": "e3b935ce",
   "metadata": {
    "papermill": {
     "duration": 0.002918,
     "end_time": "2025-04-20T21:50:22.998692",
     "exception": false,
     "start_time": "2025-04-20T21:50:22.995774",
     "status": "completed"
    },
    "tags": []
   },
   "source": [
    "# 5. Enhanced Consistency Checker"
   ]
  },
  {
   "cell_type": "code",
   "execution_count": 8,
   "id": "38b701e8",
   "metadata": {
    "execution": {
     "iopub.execute_input": "2025-04-20T21:50:23.004630Z",
     "iopub.status.busy": "2025-04-20T21:50:23.004373Z",
     "iopub.status.idle": "2025-04-20T21:50:32.079918Z",
     "shell.execute_reply": "2025-04-20T21:50:32.079252Z"
    },
    "papermill": {
     "duration": 9.079638,
     "end_time": "2025-04-20T21:50:32.080889",
     "exception": false,
     "start_time": "2025-04-20T21:50:23.001251",
     "status": "completed"
    },
    "tags": []
   },
   "outputs": [
    {
     "data": {
      "text/markdown": [
       "> # CONSISTENCY CHECK\n",
       "> - Lore Alignment: (score 4)\n",
       "> - Tone Match: (score 5)\n",
       "> - Logical Coherence: (score 4)\n",
       "> \n",
       "> # STRENGTHS\n",
       "> - The quest effectively utilizes the established factions, locations, and character archetypes. The hook is compelling, and the objectives clearly align with the campaign's core conflict over the Sunstone.\n",
       "> - The challenges offer a good mix of combat, puzzle-solving, and social interaction, catering to diverse playstyles.  The branching paths provide replayability and meaningful choices.\n",
       "> - The rewards are well-defined and appropriately scaled, offering both tangible benefits and narrative progression.  The quest successfully integrates reputation mechanics.\n",
       "> - The tone remains consistent with the gritty sci-fi western setting, emphasizing survival, resource scarcity, and the moral ambiguities of the factions.\n",
       "> \n",
       "> # POTENTIAL ISSUES\n",
       "> - While the quest incorporates the factions, the potential impact of the players' actions on the larger campaign conflict isn't fully explored.  Securing a *sample* of Sunstone energy might not have the same dramatic impact as the factions obtaining the whole thing. The scale of the potential consequences could be better emphasized.\n",
       "> - The optional objective of rescuing the Silent Brotherhood members feels slightly detached. While it adds a layer of complexity, its impact on the main objective (securing a Sunstone sample) isn't explicitly clear.  A stronger connection between the optional and primary goals needs to be forged.\n",
       "> - The reward of \"a significant sum of credits\" feels generic.  Specifying the amount or tying it to a specific in-game economy would make it more impactful.\n",
       "> \n",
       "> \n",
       "> # SUGGESTED IMPROVEMENTS\n",
       "> - **Strengthen the Stakes:** Emphasize the far-reaching consequences of the Sunstone's discovery.  Perhaps the sample obtained contains a hidden element that hints at its larger potential power and the potential consequences if it falls into the wrong hands.  This could raise the stakes for future quests.\n",
       "> - **Integrate the Optional Objective:** Make the rescue mission more directly relevant to the primary goal.  Perhaps the trapped Silent Brotherhood members possess critical knowledge about the Sunstone's weaknesses, the forgotten passage, or the best method for safely extracting a sample.\n",
       "> - **Specify Rewards:**  Instead of \"a significant sum of credits,\" state a specific amount or tie the reward to a valuable resource or item within the game's economy.  This will make the reward feel more substantial.\n",
       "> - **Consider Faction-Specific Rewards:** Tailor the rewards slightly to reflect the player's chosen ally.  For example, allying with the Rust Riders might yield more weaponry, while allying with the Silent Brotherhood might provide better technological components or information.\n",
       "> - **Add a Time Limit:** Introduce a time constraint to heighten tension and urgency. Perhaps a rival faction is closing in on the same entrance, forcing the players to act quickly. This would further emphasize the competition for resources and power that defines the campaign setting.\n"
      ],
      "text/plain": [
       "<IPython.core.display.Markdown object>"
      ]
     },
     "execution_count": 8,
     "metadata": {},
     "output_type": "execute_result"
    }
   ],
   "source": [
    "def check_consistency(new_content, campaign_data, content_type=\"character\"):\n",
    "    prompt = f\"\"\"Analyze this {content_type} content for consistency with the established campaign:\n",
    "    \n",
    "CAMPAIGN SETTING:\n",
    "{campaign_data}\n",
    "\n",
    "NEW CONTENT:\n",
    "{new_content}\n",
    "\n",
    "Provide analysis in this format:\n",
    "\n",
    "# CONSISTENCY CHECK\n",
    "- Lore Alignment: (score 1-5)\n",
    "- Tone Match: (score 1-5)\n",
    "- Logical Coherence: (score 1-5)\n",
    "\n",
    "# STRENGTHS\n",
    "- \n",
    "\n",
    "# POTENTIAL ISSUES\n",
    "- \n",
    "\n",
    "# SUGGESTED IMPROVEMENTS\n",
    "- \"\"\"\n",
    "\n",
    "    try:\n",
    "        response = model.generate_content(prompt)\n",
    "        return response.text\n",
    "    except Exception as e:\n",
    "        return f\"Error checking consistency: {str(e)}\"\n",
    "\n",
    "# Example check\n",
    "new_quest = generate_quest(campaign, \"main\", 3)\n",
    "consistency_report = check_consistency(new_quest, campaign, \"quest\")\n",
    "to_markdown(consistency_report)"
   ]
  }
 ],
 "metadata": {
  "kaggle": {
   "accelerator": "none",
   "dataSources": [],
   "dockerImageVersionId": 31012,
   "isGpuEnabled": false,
   "isInternetEnabled": true,
   "language": "python",
   "sourceType": "notebook"
  },
  "kernelspec": {
   "display_name": "Python 3",
   "language": "python",
   "name": "python3"
  },
  "language_info": {
   "codemirror_mode": {
    "name": "ipython",
    "version": 3
   },
   "file_extension": ".py",
   "mimetype": "text/x-python",
   "name": "python",
   "nbconvert_exporter": "python",
   "pygments_lexer": "ipython3",
   "version": "3.11.11"
  },
  "papermill": {
   "default_parameters": {},
   "duration": 44.829451,
   "end_time": "2025-04-20T21:50:35.204468",
   "environment_variables": {},
   "exception": null,
   "input_path": "__notebook__.ipynb",
   "output_path": "__notebook__.ipynb",
   "parameters": {},
   "start_time": "2025-04-20T21:49:50.375017",
   "version": "2.6.0"
  }
 },
 "nbformat": 4,
 "nbformat_minor": 5
}
